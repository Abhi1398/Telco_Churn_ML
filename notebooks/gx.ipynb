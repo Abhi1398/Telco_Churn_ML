{
 "cells": [
  {
   "cell_type": "code",
   "execution_count": 62,
   "id": "a32567ca",
   "metadata": {},
   "outputs": [
    {
     "name": "stdout",
     "output_type": "stream",
     "text": [
      "1.5.10\n"
     ]
    }
   ],
   "source": [
    "import great_expectations as ge\n",
    "import pandas as pd\n",
    "from typing import Tuple, List\n",
    "\n",
    "print(ge.__version__)"
   ]
  },
  {
   "cell_type": "code",
   "execution_count": null,
   "id": "5e817ebb",
   "metadata": {},
   "outputs": [],
   "source": []
  },
  {
   "cell_type": "code",
   "execution_count": null,
   "id": "5190ddfc",
   "metadata": {},
   "outputs": [
    {
     "data": {
      "application/vnd.microsoft.datawrangler.viewer.v0+json": {
       "columns": [
        {
         "name": "index",
         "rawType": "object",
         "type": "string"
        },
        {
         "name": "SeniorCitizen",
         "rawType": "float64",
         "type": "float"
        },
        {
         "name": "tenure",
         "rawType": "float64",
         "type": "float"
        },
        {
         "name": "MonthlyCharges",
         "rawType": "float64",
         "type": "float"
        },
        {
         "name": "TotalCharges",
         "rawType": "float64",
         "type": "float"
        }
       ],
       "ref": "d1ff3658-9080-410d-9c0d-046a450fff0d",
       "rows": [
        [
         "count",
         "7043.0",
         "7043.0",
         "7043.0",
         "7032.0"
        ],
        [
         "mean",
         "0.1621468124378816",
         "32.37114865824223",
         "64.76169246059918",
         "2283.3004408418656"
        ],
        [
         "std",
         "0.3686116056100131",
         "24.55948102309446",
         "30.090047097678493",
         "2266.771361883145"
        ],
        [
         "min",
         "0.0",
         "0.0",
         "18.25",
         "18.8"
        ],
        [
         "25%",
         "0.0",
         "9.0",
         "35.5",
         "401.45"
        ],
        [
         "50%",
         "0.0",
         "29.0",
         "70.35",
         "1397.475"
        ],
        [
         "75%",
         "0.0",
         "55.0",
         "89.85",
         "3794.7375"
        ],
        [
         "max",
         "1.0",
         "72.0",
         "118.75",
         "8684.8"
        ]
       ],
       "shape": {
        "columns": 4,
        "rows": 8
       }
      },
      "text/html": [
       "<div>\n",
       "<style scoped>\n",
       "    .dataframe tbody tr th:only-of-type {\n",
       "        vertical-align: middle;\n",
       "    }\n",
       "\n",
       "    .dataframe tbody tr th {\n",
       "        vertical-align: top;\n",
       "    }\n",
       "\n",
       "    .dataframe thead th {\n",
       "        text-align: right;\n",
       "    }\n",
       "</style>\n",
       "<table border=\"1\" class=\"dataframe\">\n",
       "  <thead>\n",
       "    <tr style=\"text-align: right;\">\n",
       "      <th></th>\n",
       "      <th>SeniorCitizen</th>\n",
       "      <th>tenure</th>\n",
       "      <th>MonthlyCharges</th>\n",
       "      <th>TotalCharges</th>\n",
       "    </tr>\n",
       "  </thead>\n",
       "  <tbody>\n",
       "    <tr>\n",
       "      <th>count</th>\n",
       "      <td>7043.000000</td>\n",
       "      <td>7043.000000</td>\n",
       "      <td>7043.000000</td>\n",
       "      <td>7032.000000</td>\n",
       "    </tr>\n",
       "    <tr>\n",
       "      <th>mean</th>\n",
       "      <td>0.162147</td>\n",
       "      <td>32.371149</td>\n",
       "      <td>64.761692</td>\n",
       "      <td>2283.300441</td>\n",
       "    </tr>\n",
       "    <tr>\n",
       "      <th>std</th>\n",
       "      <td>0.368612</td>\n",
       "      <td>24.559481</td>\n",
       "      <td>30.090047</td>\n",
       "      <td>2266.771362</td>\n",
       "    </tr>\n",
       "    <tr>\n",
       "      <th>min</th>\n",
       "      <td>0.000000</td>\n",
       "      <td>0.000000</td>\n",
       "      <td>18.250000</td>\n",
       "      <td>18.800000</td>\n",
       "    </tr>\n",
       "    <tr>\n",
       "      <th>25%</th>\n",
       "      <td>0.000000</td>\n",
       "      <td>9.000000</td>\n",
       "      <td>35.500000</td>\n",
       "      <td>401.450000</td>\n",
       "    </tr>\n",
       "    <tr>\n",
       "      <th>50%</th>\n",
       "      <td>0.000000</td>\n",
       "      <td>29.000000</td>\n",
       "      <td>70.350000</td>\n",
       "      <td>1397.475000</td>\n",
       "    </tr>\n",
       "    <tr>\n",
       "      <th>75%</th>\n",
       "      <td>0.000000</td>\n",
       "      <td>55.000000</td>\n",
       "      <td>89.850000</td>\n",
       "      <td>3794.737500</td>\n",
       "    </tr>\n",
       "    <tr>\n",
       "      <th>max</th>\n",
       "      <td>1.000000</td>\n",
       "      <td>72.000000</td>\n",
       "      <td>118.750000</td>\n",
       "      <td>8684.800000</td>\n",
       "    </tr>\n",
       "  </tbody>\n",
       "</table>\n",
       "</div>"
      ],
      "text/plain": [
       "       SeniorCitizen       tenure  MonthlyCharges  TotalCharges\n",
       "count    7043.000000  7043.000000     7043.000000   7032.000000\n",
       "mean        0.162147    32.371149       64.761692   2283.300441\n",
       "std         0.368612    24.559481       30.090047   2266.771362\n",
       "min         0.000000     0.000000       18.250000     18.800000\n",
       "25%         0.000000     9.000000       35.500000    401.450000\n",
       "50%         0.000000    29.000000       70.350000   1397.475000\n",
       "75%         0.000000    55.000000       89.850000   3794.737500\n",
       "max         1.000000    72.000000      118.750000   8684.800000"
      ]
     },
     "execution_count": 97,
     "metadata": {},
     "output_type": "execute_result"
    }
   ],
   "source": [
    "df = pd.read_csv(\n",
    "    \"/Users/abhishekseth/Desktop/Development/Telco_ML_E2E/Telco-Customer-Churn-ML/data/raw/Telco-Customer-Churn.csv\"\n",
    ")\n",
    "\n",
    "df[\"TotalCharges\"] = pd.to_numeric(df[\"TotalCharges\"], errors=\"coerce\")\n"
   ]
  },
  {
   "cell_type": "code",
   "execution_count": 56,
   "id": "0840d25a",
   "metadata": {},
   "outputs": [],
   "source": [
    "context = ge.get_context()\n",
    "\n",
    "# 4- Connect to data and create a Batch.\n",
    "# Define a Data Source, Data Asset, Batch Definition, and Batch. The Pandas DataFrame is provided to the Batch Definition at runtime to create the Batch.\n",
    "data_source = context.data_sources.add_pandas(\"pandas\")\n",
    "data_asset = data_source.add_dataframe_asset(name=\"telco_churn_data\")\n",
    "\n",
    "batch_definition = data_asset.add_batch_definition_whole_dataframe(\n",
    "    \"telco_churn_data_whole_dataframe\"\n",
    ")\n",
    "batch = batch_definition.get_batch(batch_parameters={\"dataframe\": df})"
   ]
  },
  {
   "cell_type": "code",
   "execution_count": 57,
   "id": "ec036102",
   "metadata": {},
   "outputs": [],
   "source": [
    "suite = context.suites.add(ge.ExpectationSuite(name=\"telco_churn_data_suite\"))\n",
    "validation_definition = ge.ValidationDefinition(\n",
    "    data=batch_definition, suite=suite, name=\"telco_churn_data_validation\"\n",
    ")"
   ]
  },
  {
   "cell_type": "code",
   "execution_count": 76,
   "id": "92f50e6f",
   "metadata": {},
   "outputs": [
    {
     "name": "stderr",
     "output_type": "stream",
     "text": [
      "Calculating Metrics: 100%|██████████| 4/4 [00:00<00:00, 825.20it/s] "
     ]
    },
    {
     "name": "stdout",
     "output_type": "stream",
     "text": [
      "[{\n",
      "  \"success\": true,\n",
      "  \"expectation_config\": {\n",
      "    \"type\": \"expect_column_to_exist\",\n",
      "    \"kwargs\": {\n",
      "      \"batch_id\": \"pandas-telco_churn_data\",\n",
      "      \"column\": \"customerID\"\n",
      "    },\n",
      "    \"meta\": {},\n",
      "    \"id\": \"75ac94fb-7f30-4f92-9462-cabaac49705a\"\n",
      "  },\n",
      "  \"result\": {},\n",
      "  \"meta\": {},\n",
      "  \"exception_info\": {\n",
      "    \"raised_exception\": false,\n",
      "    \"exception_traceback\": null,\n",
      "    \"exception_message\": null\n",
      "  }\n",
      "}, {\n",
      "  \"success\": true,\n",
      "  \"expectation_config\": {\n",
      "    \"type\": \"expect_column_distinct_values_to_be_in_set\",\n",
      "    \"kwargs\": {\n",
      "      \"batch_id\": \"pandas-telco_churn_data\",\n",
      "      \"column\": \"gender\",\n",
      "      \"value_set\": [\n",
      "        \"Male\",\n",
      "        \"Female\"\n",
      "      ]\n",
      "    },\n",
      "    \"meta\": {},\n",
      "    \"id\": \"01d78c99-2fe0-4642-a724-aad6381ca66f\"\n",
      "  },\n",
      "  \"result\": {\n",
      "    \"observed_value\": [\n",
      "      \"Female\",\n",
      "      \"Male\"\n",
      "    ],\n",
      "    \"details\": {\n",
      "      \"value_counts\": [\n",
      "        {\n",
      "          \"value\": \"Female\",\n",
      "          \"count\": 3488\n",
      "        },\n",
      "        {\n",
      "          \"value\": \"Male\",\n",
      "          \"count\": 3555\n",
      "        }\n",
      "      ]\n",
      "    }\n",
      "  },\n",
      "  \"meta\": {},\n",
      "  \"exception_info\": {\n",
      "    \"raised_exception\": false,\n",
      "    \"exception_traceback\": null,\n",
      "    \"exception_message\": null\n",
      "  }\n",
      "}]\n"
     ]
    },
    {
     "name": "stderr",
     "output_type": "stream",
     "text": [
      "\n"
     ]
    }
   ],
   "source": [
    "expectation1 = ge.expectations.ExpectColumnToExist(column=\"customerID\")\n",
    "expectation2 = ge.expectations.ExpectColumnDistinctValuesToBeInSet(\n",
    "    column=\"gender\", value_set=[\"Male\", \"Female\"]\n",
    ")\n",
    "suite.add_expectation(expectation1)\n",
    "suite.add_expectation(expectation2)\n",
    "\n",
    "# define `Validation Definition`: A Validation Definition is a fixed reference that links a Batch of data to an Expectation Suite.\n",
    "\n",
    "# Run and get the results!\n",
    "validation_result = batch.validate(suite)\n",
    "print(validation_result[\"results\"][0:])"
   ]
  },
  {
   "cell_type": "code",
   "execution_count": 77,
   "id": "dd596cd8",
   "metadata": {},
   "outputs": [],
   "source": [
    "failed_expectations = []\n",
    "for r in validation_result[\"results\"][0:]:\n",
    "    if r[\"success\"]:\n",
    "        failed_expectations.append(\n",
    "            r[\"expectation_config\"][\"type\"]\n",
    "            + \": \"\n",
    "            + str(r[\"expectation_config\"][\"kwargs\"][\"column\"])\n",
    "        )"
   ]
  },
  {
   "cell_type": "code",
   "execution_count": 78,
   "id": "d9c908fb",
   "metadata": {},
   "outputs": [
    {
     "name": "stdout",
     "output_type": "stream",
     "text": [
      "['expect_column_to_exist: customerID', 'expect_column_distinct_values_to_be_in_set: gender']\n"
     ]
    }
   ],
   "source": [
    "print(failed_expectations)"
   ]
  },
  {
   "cell_type": "code",
   "execution_count": 79,
   "id": "d212db11",
   "metadata": {},
   "outputs": [
    {
     "name": "stdout",
     "output_type": "stream",
     "text": [
      "Total checks: 2\n",
      "Passed checks: 2\n",
      "Failed checks: 0\n"
     ]
    }
   ],
   "source": [
    "# Print validation summary\n",
    "total_checks = len(validation_result[\"results\"])\n",
    "passed_checks = sum(1 for r in validation_result[\"results\"][0:] if r[\"success\"])\n",
    "failed_checks = total_checks - passed_checks\n",
    "\n",
    "print(\"Total checks:\", total_checks)\n",
    "print(\"Passed checks:\", passed_checks)\n",
    "print(\"Failed checks:\", failed_checks)"
   ]
  },
  {
   "cell_type": "code",
   "execution_count": null,
   "id": "e5717c44",
   "metadata": {},
   "outputs": [
    {
     "name": "stdout",
     "output_type": "stream",
     "text": [
      "✅ Data validation PASSED: 2/2 checks successful\n"
     ]
    }
   ],
   "source": [
    "if validation_result[\"success\"]:\n",
    "    print(\n",
    "        f\"✅ Data validation PASSED: {passed_checks}/{total_checks} checks successful\"\n",
    "    )\n",
    "else:\n",
    "    print(f\"❌ Data validation FAILED: {failed_checks}/{total_checks} checks failed\")\n",
    "    print(f\"   Failed expectations: {failed_expectations}\")"
   ]
  },
  {
   "cell_type": "markdown",
   "id": "7188cd17",
   "metadata": {},
   "source": [
    "### Modifying the code "
   ]
  },
  {
   "cell_type": "code",
   "execution_count": 88,
   "id": "174916c8",
   "metadata": {},
   "outputs": [],
   "source": [
    "import great_expectations as ge\n",
    "import pandas as pd\n",
    "from typing import Tuple, List\n",
    "\n",
    "df = pd.read_csv(\n",
    "    \"/Users/abhishekseth/Desktop/Development/Telco_ML_E2E/Telco-Customer-Churn-ML/data/raw/Telco-Customer-Churn.csv\"\n",
    ")\n",
    "\n",
    "df_processed = pd.read_csv(\n",
    "    \"/Users/abhishekseth/Desktop/Development/Telco_ML_E2E/Telco-Customer-Churn-ML/data/processed/telco_churn_processed.csv\"\n",
    ")\n",
    "\n",
    "\n",
    "def validate_telco_data(df) -> Tuple[bool, List[str]]:\n",
    "    \"\"\"\n",
    "    Comprehensive data validation for Telco Customer Churn dataset using Great Expectations.\n",
    "\n",
    "    This function implements critical data quality checks that must pass before model training.\n",
    "    It validates data integrity, business logic constraints, and statistical properties\n",
    "    that the ML model expects.\n",
    "\n",
    "    \"\"\"\n",
    "    print(\"🔍 Starting data validation with Great Expectations...\")\n",
    "\n",
    "    # Convert pandas DataFrame to Great Expectations Dataset\n",
    "    # ge_df = ge.dataset.PandasDataset(df)\n",
    "\n",
    "    context = ge.get_context()\n",
    "\n",
    "    # 4- Connect to data and create a Batch.\n",
    "    # Define a Data Source, Data Asset, Batch Definition, and Batch. The Pandas DataFrame is provided to the Batch Definition at runtime to create the Batch.\n",
    "    data_source = context.data_sources.add_pandas(\"pandas\")\n",
    "    data_asset = data_source.add_dataframe_asset(name=\"telco_churn_data\")\n",
    "\n",
    "    batch_definition = data_asset.add_batch_definition_whole_dataframe(\n",
    "        \"telco_churn_data_whole_dataframe\"\n",
    "    )\n",
    "    batch = batch_definition.get_batch(batch_parameters={\"dataframe\": df})\n",
    "\n",
    "    suite = context.suites.add(ge.ExpectationSuite(name=\"telco_churn_data_suite\"))\n",
    "    validation_definition = ge.ValidationDefinition(\n",
    "        data=batch_definition, suite=suite, name=\"telco_churn_data_validation\"\n",
    "    )\n",
    "\n",
    "    # === SCHEMA VALIDATION - ESSENTIAL COLUMNS ===\n",
    "    print(\"   📋 Validating schema and required columns...\")\n",
    "\n",
    "    # # Customer identifier must exist (required for business operations)\n",
    "    # ge_df.expect_column_to_exist(\"customerID\")\n",
    "    # ge_df.expect_column_values_to_not_be_null(\"customerID\")\n",
    "\n",
    "    expectation1 = ge.expectations.ExpectColumnToExist(column=\"customerID\")\n",
    "    expectation2 = ge.expectations.ExpectColumnValuesToNotBeNull(column=\"customerID\")\n",
    "\n",
    "    # # Core demographic features\n",
    "    # ge_df.expect_column_to_exist(\"gender\")\n",
    "    # ge_df.expect_column_to_exist(\"Partner\")\n",
    "    # ge_df.expect_column_to_exist(\"Dependents\")\n",
    "\n",
    "    expectation3 = ge.expectations.ExpectColumnToExist(column=\"gender\")\n",
    "    expectation4 = ge.expectations.ExpectColumnToExist(column=\"Partner\")\n",
    "    expectation5 = ge.expectations.ExpectColumnToExist(column=\"Dependents\")\n",
    "\n",
    "    # # Service features (critical for churn analysis)\n",
    "    # ge_df.expect_column_to_exist(\"PhoneService\")\n",
    "    # ge_df.expect_column_to_exist(\"InternetService\")\n",
    "    # ge_df.expect_column_to_exist(\"Contract\")\n",
    "\n",
    "    expectation6 = ge.expectations.ExpectColumnToExist(column=\"PhoneService\")\n",
    "    expectation7 = ge.expectations.ExpectColumnToExist(column=\"InternetService\")\n",
    "    expectation8 = ge.expectations.ExpectColumnToExist(column=\"Contract\")\n",
    "\n",
    "    # # Financial features (key churn predictors)\n",
    "    # ge_df.expect_column_to_exist(\"tenure\")\n",
    "    # ge_df.expect_column_to_exist(\"MonthlyCharges\")\n",
    "    # ge_df.expect_column_to_exist(\"TotalCharges\")\n",
    "\n",
    "    expectation9 = ge.expectations.ExpectColumnToExist(column=\"tenure\")\n",
    "    expectation10 = ge.expectations.ExpectColumnToExist(column=\"MonthlyCharges\")\n",
    "    expectation11 = ge.expectations.ExpectColumnToExist(column=\"TotalCharges\")\n",
    "\n",
    "    # # === BUSINESS LOGIC VALIDATION ===\n",
    "    print(\"   💼 Validating business logic constraints...\")\n",
    "\n",
    "    # # Gender must be one of expected values (data integrity)\n",
    "    # ge_df.expect_column_values_to_be_in_set(\"gender\", [\"Male\", \"Female\"])\n",
    "\n",
    "    expectation12 = ge.expectations.ExpectColumnDistinctValuesToBeInSet(\n",
    "        column=\"gender\", value_set=[\"Male\", \"Female\"]\n",
    "    )\n",
    "\n",
    "    # # Yes/No fields must have valid values\n",
    "    # ge_df.expect_column_values_to_be_in_set(\"Partner\", [\"Yes\", \"No\"])\n",
    "    # ge_df.expect_column_values_to_be_in_set(\"Dependents\", [\"Yes\", \"No\"])\n",
    "    # ge_df.expect_column_values_to_be_in_set(\"PhoneService\", [\"Yes\", \"No\"])\n",
    "\n",
    "    expectation13 = ge.expectations.ExpectColumnDistinctValuesToBeInSet(\n",
    "        column=\"Partner\", value_set=[\"Yes\", \"No\"]\n",
    "    )\n",
    "    expectation14 = ge.expectations.ExpectColumnDistinctValuesToBeInSet(\n",
    "        column=\"Dependents\", value_set=[\"Yes\", \"No\"]\n",
    "    )\n",
    "    expectation15 = ge.expectations.ExpectColumnDistinctValuesToBeInSet(\n",
    "        column=\"PhoneService\", value_set=[\"Yes\", \"No\"]\n",
    "    )\n",
    "\n",
    "    # # Contract types must be valid (business constraint)\n",
    "    # ge_df.expect_column_values_to_be_in_set(\n",
    "    #     \"Contract\", [\"Month-to-month\", \"One year\", \"Two year\"]\n",
    "    # )\n",
    "\n",
    "    expectation16 = ge.expectations.ExpectColumnDistinctValuesToBeInSet(\n",
    "        column=\"Contract\", value_set=[\"Month-to-month\", \"One year\", \"Two year\"]\n",
    "    )\n",
    "\n",
    "    # # Internet service types (business constraint)\n",
    "    # ge_df.expect_column_values_to_be_in_set(\n",
    "    #     \"InternetService\", [\"DSL\", \"Fiber optic\", \"No\"]\n",
    "    # )\n",
    "\n",
    "    expectation17 = ge.expectations.ExpectColumnDistinctValuesToBeInSet(\n",
    "        column=\"InternetService\", value_set=[\"DSL\", \"Fiber optic\", \"No\"]\n",
    "    )\n",
    "\n",
    "    # # === NUMERIC RANGE VALIDATION ===\n",
    "    print(\"   📊 Validating numeric ranges and business constraints...\")\n",
    "\n",
    "    # # Tenure must be non-negative (business logic - can't have negative tenure)\n",
    "    # ge_df.expect_column_values_to_be_between(\"tenure\", min_value=0)\n",
    "\n",
    "    expectation18 = ge.expectations.ExpectColumnValuesToBeBetween(\n",
    "        column=\"tenure\", min_value=0\n",
    "    )\n",
    "\n",
    "    # # Monthly charges must be positive (business logic - no free service)\n",
    "    # ge_df.expect_column_values_to_be_between(\"MonthlyCharges\", min_value=0)\n",
    "\n",
    "    expectation19 = ge.expectations.ExpectColumnValuesToBeBetween(\n",
    "        column=\"MonthlyCharges\", min_value=0\n",
    "    )\n",
    "\n",
    "    # # Total charges should be non-negative (business logic)\n",
    "    # ge_df.expect_column_values_to_be_between(\"TotalCharges\", min_value=0)\n",
    "\n",
    "    expectation20 = ge.expectations.ExpectColumnValuesToBeBetween(\n",
    "        column=\"TotalCharges\", min_value=0\n",
    "    )\n",
    "\n",
    "    # # === STATISTICAL VALIDATION ===\n",
    "    print(\"   📈 Validating statistical properties...\")\n",
    "\n",
    "    # # Tenure should be reasonable (max ~10 years = 120 months for telecom)\n",
    "    # ge_df.expect_column_values_to_be_between(\"tenure\", min_value=0, max_value=120)\n",
    "\n",
    "    expectation21 = ge.expectations.ExpectColumnValuesToBeBetween(\n",
    "        column=\"tenure\", min_value=0, max_value=120\n",
    "    )\n",
    "\n",
    "    # # Monthly charges should be within reasonable business range\n",
    "    # ge_df.expect_column_values_to_be_between(\n",
    "    #     \"MonthlyCharges\", min_value=0, max_value=200\n",
    "    # )\n",
    "\n",
    "    expectation22 = ge.expectations.ExpectColumnValuesToBeBetween(\n",
    "        column=\"MonthlyCharges\", min_value=0, max_value=200\n",
    "    )\n",
    "\n",
    "    # # No missing values in critical numeric features\n",
    "    # ge_df.expect_column_values_to_not_be_null(\"tenure\")\n",
    "    # ge_df.expect_column_values_to_not_be_null(\"MonthlyCharges\")\n",
    "\n",
    "    expectation23 = ge.expectations.ExpectColumnValuesToNotBeNull(column=\"tenure\")\n",
    "    expectation24 = ge.expectations.ExpectColumnValuesToNotBeNull(\n",
    "        column=\"MonthlyCharges\"\n",
    "    )\n",
    "\n",
    "    # # === DATA CONSISTENCY CHECKS ===\n",
    "    print(\"   🔗 Validating data consistency...\")\n",
    "\n",
    "    # # Total charges should generally be >= Monthly charges (except for very new customers)\n",
    "    # # This is a business logic check to catch data entry errors\n",
    "    # ge_df.expect_column_pair_values_A_to_be_greater_than_B(\n",
    "    #     column_A=\"TotalCharges\",\n",
    "    #     column_B=\"MonthlyCharges\",\n",
    "    #     or_equal=True,\n",
    "    #     mostly=0.95,  # Allow 5% exceptions for edge cases\n",
    "    # )\n",
    "\n",
    "    expectation25 = ge.expectations.ExpectColumnPairValuesAToBeGreaterThanB(\n",
    "        column_A=\"TotalCharges\",\n",
    "        column_B=\"MonthlyCharges\",\n",
    "        or_equal=True,\n",
    "        mostly=0.95,  # Allow 5% exceptions for edge cases\n",
    "    )\n",
    "\n",
    "    ## Adding the expectations to the suite\n",
    "    suite.add_expectation(expectation1)\n",
    "    suite.add_expectation(expectation2)\n",
    "    suite.add_expectation(expectation3)\n",
    "    suite.add_expectation(expectation4)\n",
    "    suite.add_expectation(expectation5)\n",
    "    suite.add_expectation(expectation6)\n",
    "    suite.add_expectation(expectation7)\n",
    "    suite.add_expectation(expectation8)\n",
    "    suite.add_expectation(expectation9)\n",
    "    suite.add_expectation(expectation10)\n",
    "    suite.add_expectation(expectation11)\n",
    "    suite.add_expectation(expectation12)\n",
    "    suite.add_expectation(expectation13)\n",
    "    suite.add_expectation(expectation14)\n",
    "    suite.add_expectation(expectation15)\n",
    "    suite.add_expectation(expectation16)\n",
    "    suite.add_expectation(expectation17)\n",
    "    suite.add_expectation(expectation18)\n",
    "    suite.add_expectation(expectation19)\n",
    "    suite.add_expectation(expectation20)\n",
    "    suite.add_expectation(expectation21)\n",
    "    suite.add_expectation(expectation22)\n",
    "    suite.add_expectation(expectation23)\n",
    "    suite.add_expectation(expectation24)\n",
    "    suite.add_expectation(expectation25)\n",
    "\n",
    "    # # === RUN VALIDATION SUITE ===\n",
    "    print(\"   ⚙️  Running complete validation suite...\")\n",
    "    # results = ge_df.validate()\n",
    "\n",
    "    results = batch.validate(suite)\n",
    "\n",
    "    # # === PROCESS RESULTS ===\n",
    "    # # Extract failed expectations for detailed error reporting\n",
    "    # failed_expectations = []\n",
    "    # for r in results[\"results\"]:\n",
    "    #     if not r[\"success\"]:\n",
    "    #         expectation_type = r[\"expectation_config\"][\"expectation_type\"]\n",
    "    #         failed_expectations.append(expectation_type)\n",
    "\n",
    "    failed_expectations = []\n",
    "    for r in results[\"results\"][0:]:\n",
    "        if not r[\"success\"]:\n",
    "            failed_expectations.append(r[\"expectation_config\"][\"type\"])\n",
    "            # failed_expectations.append(\n",
    "            #     r[\"expectation_config\"][\"type\"]\n",
    "            #     + \": \"\n",
    "            #     + str(r[\"expectation_config\"][\"kwargs\"][\"column\"])\n",
    "            # )\n",
    "\n",
    "    # # Print validation summary\n",
    "    total_checks = len(results[\"results\"])\n",
    "    passed_checks = sum(1 for r in results[\"results\"][0:] if r[\"success\"])\n",
    "    failed_checks = total_checks - passed_checks\n",
    "\n",
    "    if results[\"success\"]:\n",
    "        print(\n",
    "            f\"✅ Data validation PASSED: {passed_checks}/{total_checks} checks successful\"\n",
    "        )\n",
    "    else:\n",
    "        print(\n",
    "            f\"❌ Data validation FAILED: {failed_checks}/{total_checks} checks failed\"\n",
    "        )\n",
    "        print(f\"   Failed expectations: {failed_expectations}\")\n",
    "\n",
    "    return results[\"success\"], failed_expectations"
   ]
  },
  {
   "cell_type": "code",
   "execution_count": 89,
   "id": "a8b36fee",
   "metadata": {},
   "outputs": [
    {
     "name": "stdout",
     "output_type": "stream",
     "text": [
      "🔍 Starting data validation with Great Expectations...\n",
      "   📋 Validating schema and required columns...\n",
      "   💼 Validating business logic constraints...\n",
      "   📊 Validating numeric ranges and business constraints...\n",
      "   📈 Validating statistical properties...\n",
      "   🔗 Validating data consistency...\n",
      "   ⚙️  Running complete validation suite...\n"
     ]
    },
    {
     "name": "stderr",
     "output_type": "stream",
     "text": [
      "Calculating Metrics:  81%|████████  | 46/57 [00:00<00:00, 1025.55it/s]"
     ]
    },
    {
     "name": "stdout",
     "output_type": "stream",
     "text": [
      "❌ Data validation FAILED: 2/25 checks failed\n",
      "   Failed expectations: ['expect_column_values_to_be_between', 'expect_column_pair_values_a_to_be_greater_than_b']\n"
     ]
    },
    {
     "name": "stderr",
     "output_type": "stream",
     "text": [
      "\n"
     ]
    }
   ],
   "source": [
    "a = validate_telco_data(df)"
   ]
  },
  {
   "cell_type": "code",
   "execution_count": 87,
   "id": "548b2f41",
   "metadata": {},
   "outputs": [
    {
     "name": "stdout",
     "output_type": "stream",
     "text": [
      "🔍 Starting data validation with Great Expectations...\n",
      "   📋 Validating schema and required columns...\n",
      "   💼 Validating business logic constraints...\n",
      "   📊 Validating numeric ranges and business constraints...\n",
      "   📈 Validating statistical properties...\n",
      "   🔗 Validating data consistency...\n",
      "   ⚙️  Running complete validation suite...\n"
     ]
    },
    {
     "name": "stderr",
     "output_type": "stream",
     "text": [
      "Calculating Metrics:  88%|████████▊ | 50/57 [00:00<00:00, 1965.87it/s]"
     ]
    },
    {
     "name": "stdout",
     "output_type": "stream",
     "text": [
      "❌ Data validation FAILED: 10/25 checks failed\n",
      "   Failed expectations: ['expect_column_values_to_not_be_null: customerID', 'expect_column_distinct_values_to_be_in_set: InternetService', 'expect_column_distinct_values_to_be_in_set: Contract', 'expect_column_to_exist: customerID', 'expect_column_distinct_values_to_be_in_set: gender', 'expect_column_distinct_values_to_be_in_set: Partner', 'expect_column_distinct_values_to_be_in_set: Dependents', 'expect_column_distinct_values_to_be_in_set: PhoneService', 'expect_column_to_exist: InternetService', 'expect_column_to_exist: Contract']\n"
     ]
    },
    {
     "name": "stderr",
     "output_type": "stream",
     "text": [
      "\n"
     ]
    }
   ],
   "source": [
    "a = validate_telco_data(df_processed)"
   ]
  },
  {
   "cell_type": "code",
   "execution_count": 92,
   "id": "4df9736d",
   "metadata": {},
   "outputs": [
    {
     "data": {
      "application/vnd.microsoft.datawrangler.viewer.v0+json": {
       "columns": [
        {
         "name": "index",
         "rawType": "object",
         "type": "string"
        },
        {
         "name": "SeniorCitizen",
         "rawType": "float64",
         "type": "float"
        },
        {
         "name": "tenure",
         "rawType": "float64",
         "type": "float"
        },
        {
         "name": "MonthlyCharges",
         "rawType": "float64",
         "type": "float"
        }
       ],
       "ref": "950a6f3a-ec2a-4386-8687-7d88ac5a7919",
       "rows": [
        [
         "count",
         "7043.0",
         "7043.0",
         "7043.0"
        ],
        [
         "mean",
         "0.1621468124378816",
         "32.37114865824223",
         "64.76169246059918"
        ],
        [
         "std",
         "0.3686116056100131",
         "24.55948102309446",
         "30.090047097678493"
        ],
        [
         "min",
         "0.0",
         "0.0",
         "18.25"
        ],
        [
         "25%",
         "0.0",
         "9.0",
         "35.5"
        ],
        [
         "50%",
         "0.0",
         "29.0",
         "70.35"
        ],
        [
         "75%",
         "0.0",
         "55.0",
         "89.85"
        ],
        [
         "max",
         "1.0",
         "72.0",
         "118.75"
        ]
       ],
       "shape": {
        "columns": 3,
        "rows": 8
       }
      },
      "text/html": [
       "<div>\n",
       "<style scoped>\n",
       "    .dataframe tbody tr th:only-of-type {\n",
       "        vertical-align: middle;\n",
       "    }\n",
       "\n",
       "    .dataframe tbody tr th {\n",
       "        vertical-align: top;\n",
       "    }\n",
       "\n",
       "    .dataframe thead th {\n",
       "        text-align: right;\n",
       "    }\n",
       "</style>\n",
       "<table border=\"1\" class=\"dataframe\">\n",
       "  <thead>\n",
       "    <tr style=\"text-align: right;\">\n",
       "      <th></th>\n",
       "      <th>SeniorCitizen</th>\n",
       "      <th>tenure</th>\n",
       "      <th>MonthlyCharges</th>\n",
       "    </tr>\n",
       "  </thead>\n",
       "  <tbody>\n",
       "    <tr>\n",
       "      <th>count</th>\n",
       "      <td>7043.000000</td>\n",
       "      <td>7043.000000</td>\n",
       "      <td>7043.000000</td>\n",
       "    </tr>\n",
       "    <tr>\n",
       "      <th>mean</th>\n",
       "      <td>0.162147</td>\n",
       "      <td>32.371149</td>\n",
       "      <td>64.761692</td>\n",
       "    </tr>\n",
       "    <tr>\n",
       "      <th>std</th>\n",
       "      <td>0.368612</td>\n",
       "      <td>24.559481</td>\n",
       "      <td>30.090047</td>\n",
       "    </tr>\n",
       "    <tr>\n",
       "      <th>min</th>\n",
       "      <td>0.000000</td>\n",
       "      <td>0.000000</td>\n",
       "      <td>18.250000</td>\n",
       "    </tr>\n",
       "    <tr>\n",
       "      <th>25%</th>\n",
       "      <td>0.000000</td>\n",
       "      <td>9.000000</td>\n",
       "      <td>35.500000</td>\n",
       "    </tr>\n",
       "    <tr>\n",
       "      <th>50%</th>\n",
       "      <td>0.000000</td>\n",
       "      <td>29.000000</td>\n",
       "      <td>70.350000</td>\n",
       "    </tr>\n",
       "    <tr>\n",
       "      <th>75%</th>\n",
       "      <td>0.000000</td>\n",
       "      <td>55.000000</td>\n",
       "      <td>89.850000</td>\n",
       "    </tr>\n",
       "    <tr>\n",
       "      <th>max</th>\n",
       "      <td>1.000000</td>\n",
       "      <td>72.000000</td>\n",
       "      <td>118.750000</td>\n",
       "    </tr>\n",
       "  </tbody>\n",
       "</table>\n",
       "</div>"
      ],
      "text/plain": [
       "       SeniorCitizen       tenure  MonthlyCharges\n",
       "count    7043.000000  7043.000000     7043.000000\n",
       "mean        0.162147    32.371149       64.761692\n",
       "std         0.368612    24.559481       30.090047\n",
       "min         0.000000     0.000000       18.250000\n",
       "25%         0.000000     9.000000       35.500000\n",
       "50%         0.000000    29.000000       70.350000\n",
       "75%         0.000000    55.000000       89.850000\n",
       "max         1.000000    72.000000      118.750000"
      ]
     },
     "execution_count": 92,
     "metadata": {},
     "output_type": "execute_result"
    }
   ],
   "source": [
    "df.describe()"
   ]
  },
  {
   "cell_type": "code",
   "execution_count": null,
   "id": "c02c2102",
   "metadata": {},
   "outputs": [],
   "source": []
  }
 ],
 "metadata": {
  "kernelspec": {
   "display_name": "Telco-Customer-Churn-ML",
   "language": "python",
   "name": "python3"
  },
  "language_info": {
   "codemirror_mode": {
    "name": "ipython",
    "version": 3
   },
   "file_extension": ".py",
   "mimetype": "text/x-python",
   "name": "python",
   "nbconvert_exporter": "python",
   "pygments_lexer": "ipython3",
   "version": "3.11.13"
  }
 },
 "nbformat": 4,
 "nbformat_minor": 5
}
